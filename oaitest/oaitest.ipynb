{
 "cells": [
  {
   "cell_type": "code",
   "execution_count": 6,
   "id": "8bd1b1c5-0c2b-4dcd-8d0f-992f2c4b4d5a",
   "metadata": {},
   "outputs": [],
   "source": [
    "import json\n",
    "from openai import OpenAI"
   ]
  },
  {
   "cell_type": "code",
   "execution_count": null,
   "id": "c4c09b89-52aa-4501-b10b-901c5e430986",
   "metadata": {},
   "outputs": [],
   "source": [
    "with open('settings.json') as settings_file:\n",
    "    settings = json.load(settings_file)"
   ]
  },
  {
   "cell_type": "code",
   "execution_count": 7,
   "id": "e425db76-d106-4e35-8bed-7df1747409ef",
   "metadata": {},
   "outputs": [
    {
     "data": {
      "text/plain": [
       "<openai.OpenAI at 0x1fcb5c75ca0>"
      ]
     },
     "execution_count": 7,
     "metadata": {},
     "output_type": "execute_result"
    }
   ],
   "source": [
    "client = OpenAI(api_key=settings['Apikey'])\n",
    "client"
   ]
  },
  {
   "cell_type": "code",
   "execution_count": 8,
   "id": "62b04caf-a559-4ce0-a14d-1abf4bcd4c35",
   "metadata": {},
   "outputs": [
    {
     "name": "stdout",
     "output_type": "stream",
     "text": [
      "ChatCompletionMessage(content=\"In the realm of code, where logic aligns,\\nA concept emerges, quite divine,\\nRecursion, oh recursive delight,\\nUnveiling the depths of programming's might.\\n\\nPicture a function, simple and small,\\nA task to perform, that's the call,\\nBut here's the twist, the magical flare,\\nIt calls itself, without a care.\\n\\nLike a mirror reflecting its own reflection,\\nRecursive functions defy all perception,\\nThey dance in loops, endlessly bound,\\nCreating brilliance, astoundingly profound.\\n\\nWith elegance they traverse the unknown,\\nExploring the intricate paths, all alone,\\nBreaking complex problems, bit by bit,\\nAs recursive patterns quietly emit.\\n\\nPicture a labyrinth, tangled and vast,\\nWhere algorithms navigate with steadfast,\\nOne step at a time, guided by trust,\\nRecursion unlocks doors, it's an absolute must.\\n\\nWith each iteration, a problem's untied,\\nAs layers unfold, secrets no longer hide,\\nA cycle of beauty, from start to end,\\nRecursion, a symphony that transcends.\\n\\nYet, caution must be heeded, we know,\\nAn infinite loop, a program's woe,\\nThe base case's embrace, we must seek,\\nTo exit recursively, and avoid a bug's beak.\\n\\nSo, programmers, embrace this technique,\\nIn coding realms, where solutions speak,\\nUnleash the power of recursive might,\\nAnd watch your programs soar to new heights.\\n\\nFor in this realm, where magic is real,\\nRecursion weaves its spell, and we feel,\\nThat in the code's fabric, a story unfolds,\\nOf endless possibilities, yet to be told.\", role='assistant', function_call=None, tool_calls=None)\n"
     ]
    }
   ],
   "source": [
    "completion = client.chat.completions.create(\n",
    "  model=\"gpt-3.5-turbo\",\n",
    "  messages=[\n",
    "    {\"role\": \"system\", \"content\": \"You are a poetic assistant, skilled in explaining complex programming concepts with creative flair.\"},\n",
    "    {\"role\": \"user\", \"content\": \"Compose a poem that explains the concept of recursion in programming.\"}\n",
    "  ]\n",
    ")\n",
    "\n",
    "print(completion.choices[0].message)"
   ]
  },
  {
   "cell_type": "code",
   "execution_count": null,
   "id": "a4a6e8e7-474b-4677-9fd0-8feafdc1b3c8",
   "metadata": {},
   "outputs": [],
   "source": []
  }
 ],
 "metadata": {
  "kernelspec": {
   "display_name": "Python 3 (ipykernel)",
   "language": "python",
   "name": "python3"
  },
  "language_info": {
   "codemirror_mode": {
    "name": "ipython",
    "version": 3
   },
   "file_extension": ".py",
   "mimetype": "text/x-python",
   "name": "python",
   "nbconvert_exporter": "python",
   "pygments_lexer": "ipython3",
   "version": "3.12.1"
  }
 },
 "nbformat": 4,
 "nbformat_minor": 5
}
